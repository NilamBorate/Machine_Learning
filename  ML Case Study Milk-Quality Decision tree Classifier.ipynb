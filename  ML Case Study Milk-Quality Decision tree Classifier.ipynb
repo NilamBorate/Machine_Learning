{
 "cells": [
  {
   "cell_type": "markdown",
   "id": "e41de561",
   "metadata": {},
   "source": [
    "# Atrribute Information"
   ]
  },
  {
   "cell_type": "markdown",
   "id": "0f75c107",
   "metadata": {},
   "source": [
    "__*pH :\n",
    "This Column defines PH alus of the milk which ranges from 3 to 9.5 max : 6.25 to 6.90*__\n",
    "\n",
    "__*Temprature :\n",
    "This Column defines Temprature of the milk which ranges from 34'C to 90'C max : 34'C to 45.20'C*__\n",
    "\n",
    "__*Taste :\n",
    "This Column defines Taste of the milk which is categorical data 0 (Bad) or 1 (Good) max : 1 (Good)*__\n",
    "\n",
    "__*Odor :\n",
    "This Column defines Odor of the milk which is categorical data 0 (Bad) or 1 (Good) max : 0 (Bad)*__\n",
    "\n",
    "__*Fat :\n",
    "This Column defines Odor of the milk which is categorical data 0 (Low) or 1 (High) max : 1 (High)*__\n",
    "\n",
    "__*Turbidity :\n",
    "This Column defines Turbidity of the milk which is categorical data 0 (Low) or 1 (High) max : 1 (High)*__\n",
    "\n",
    "__*Colour :\n",
    "This Column defines Colour of the milk which ranges from 240 to 255 max : 255*__\n",
    "\n",
    "__*Grade :\n",
    "This Column defines Grade (Target) of the milk which is categorical data Where Low (Bad) or Medium (Moderate) High*__"
   ]
  },
  {
   "cell_type": "markdown",
   "id": "0098fa58",
   "metadata": {},
   "source": [
    "# Importing Data"
   ]
  },
  {
   "cell_type": "code",
   "execution_count": 1,
   "id": "b32f488c",
   "metadata": {},
   "outputs": [],
   "source": [
    "import numpy as np                       # linear algebra\n",
    "import pandas as pd                      # data processing and Manipulation\n",
    "import seaborn as sns                    # Data visualization\n",
    "import matplotlib.pyplot as plt          # Data visualization\n",
    "import warnings                          # Hiding Warnings\n",
    "warnings.filterwarnings('ignore')"
   ]
  },
  {
   "cell_type": "code",
   "execution_count": 2,
   "id": "26397dd7",
   "metadata": {},
   "outputs": [],
   "source": [
    "m=pd.read_csv(\"C:\\\\Users\\\\Admin\\\\Downloads\\\\milknew.csv\")"
   ]
  },
  {
   "cell_type": "markdown",
   "id": "65c0ef15",
   "metadata": {},
   "source": [
    "# Exploratory Data Analysis"
   ]
  },
  {
   "cell_type": "code",
   "execution_count": 3,
   "id": "5ff5be26",
   "metadata": {},
   "outputs": [
    {
     "data": {
      "text/html": [
       "<div>\n",
       "<style scoped>\n",
       "    .dataframe tbody tr th:only-of-type {\n",
       "        vertical-align: middle;\n",
       "    }\n",
       "\n",
       "    .dataframe tbody tr th {\n",
       "        vertical-align: top;\n",
       "    }\n",
       "\n",
       "    .dataframe thead th {\n",
       "        text-align: right;\n",
       "    }\n",
       "</style>\n",
       "<table border=\"1\" class=\"dataframe\">\n",
       "  <thead>\n",
       "    <tr style=\"text-align: right;\">\n",
       "      <th></th>\n",
       "      <th>pH</th>\n",
       "      <th>Temprature</th>\n",
       "      <th>Taste</th>\n",
       "      <th>Odor</th>\n",
       "      <th>Fat</th>\n",
       "      <th>Turbidity</th>\n",
       "      <th>Color</th>\n",
       "      <th>Grade</th>\n",
       "    </tr>\n",
       "  </thead>\n",
       "  <tbody>\n",
       "    <tr>\n",
       "      <th>0</th>\n",
       "      <td>6.6</td>\n",
       "      <td>35</td>\n",
       "      <td>1</td>\n",
       "      <td>0</td>\n",
       "      <td>1</td>\n",
       "      <td>0</td>\n",
       "      <td>254</td>\n",
       "      <td>high</td>\n",
       "    </tr>\n",
       "    <tr>\n",
       "      <th>1</th>\n",
       "      <td>6.6</td>\n",
       "      <td>36</td>\n",
       "      <td>0</td>\n",
       "      <td>1</td>\n",
       "      <td>0</td>\n",
       "      <td>1</td>\n",
       "      <td>253</td>\n",
       "      <td>high</td>\n",
       "    </tr>\n",
       "    <tr>\n",
       "      <th>2</th>\n",
       "      <td>8.5</td>\n",
       "      <td>70</td>\n",
       "      <td>1</td>\n",
       "      <td>1</td>\n",
       "      <td>1</td>\n",
       "      <td>1</td>\n",
       "      <td>246</td>\n",
       "      <td>low</td>\n",
       "    </tr>\n",
       "    <tr>\n",
       "      <th>3</th>\n",
       "      <td>9.5</td>\n",
       "      <td>34</td>\n",
       "      <td>1</td>\n",
       "      <td>1</td>\n",
       "      <td>0</td>\n",
       "      <td>1</td>\n",
       "      <td>255</td>\n",
       "      <td>low</td>\n",
       "    </tr>\n",
       "    <tr>\n",
       "      <th>4</th>\n",
       "      <td>6.6</td>\n",
       "      <td>37</td>\n",
       "      <td>0</td>\n",
       "      <td>0</td>\n",
       "      <td>0</td>\n",
       "      <td>0</td>\n",
       "      <td>255</td>\n",
       "      <td>medium</td>\n",
       "    </tr>\n",
       "  </tbody>\n",
       "</table>\n",
       "</div>"
      ],
      "text/plain": [
       "    pH  Temprature  Taste  Odor  Fat  Turbidity  Color   Grade\n",
       "0  6.6          35      1     0    1          0    254    high\n",
       "1  6.6          36      0     1    0          1    253    high\n",
       "2  8.5          70      1     1    1          1    246     low\n",
       "3  9.5          34      1     1    0          1    255     low\n",
       "4  6.6          37      0     0    0          0    255  medium"
      ]
     },
     "execution_count": 3,
     "metadata": {},
     "output_type": "execute_result"
    }
   ],
   "source": [
    "m.head()"
   ]
  },
  {
   "cell_type": "code",
   "execution_count": 4,
   "id": "c26b36d1",
   "metadata": {},
   "outputs": [
    {
     "data": {
      "text/html": [
       "<div>\n",
       "<style scoped>\n",
       "    .dataframe tbody tr th:only-of-type {\n",
       "        vertical-align: middle;\n",
       "    }\n",
       "\n",
       "    .dataframe tbody tr th {\n",
       "        vertical-align: top;\n",
       "    }\n",
       "\n",
       "    .dataframe thead th {\n",
       "        text-align: right;\n",
       "    }\n",
       "</style>\n",
       "<table border=\"1\" class=\"dataframe\">\n",
       "  <thead>\n",
       "    <tr style=\"text-align: right;\">\n",
       "      <th></th>\n",
       "      <th>pH</th>\n",
       "      <th>Temprature</th>\n",
       "      <th>Taste</th>\n",
       "      <th>Odor</th>\n",
       "      <th>Fat</th>\n",
       "      <th>Turbidity</th>\n",
       "      <th>Color</th>\n",
       "      <th>Grade</th>\n",
       "    </tr>\n",
       "  </thead>\n",
       "  <tbody>\n",
       "    <tr>\n",
       "      <th>1054</th>\n",
       "      <td>6.7</td>\n",
       "      <td>45</td>\n",
       "      <td>1</td>\n",
       "      <td>1</td>\n",
       "      <td>0</td>\n",
       "      <td>0</td>\n",
       "      <td>247</td>\n",
       "      <td>medium</td>\n",
       "    </tr>\n",
       "    <tr>\n",
       "      <th>1055</th>\n",
       "      <td>6.7</td>\n",
       "      <td>38</td>\n",
       "      <td>1</td>\n",
       "      <td>0</td>\n",
       "      <td>1</td>\n",
       "      <td>0</td>\n",
       "      <td>255</td>\n",
       "      <td>high</td>\n",
       "    </tr>\n",
       "    <tr>\n",
       "      <th>1056</th>\n",
       "      <td>3.0</td>\n",
       "      <td>40</td>\n",
       "      <td>1</td>\n",
       "      <td>1</td>\n",
       "      <td>1</td>\n",
       "      <td>1</td>\n",
       "      <td>255</td>\n",
       "      <td>low</td>\n",
       "    </tr>\n",
       "    <tr>\n",
       "      <th>1057</th>\n",
       "      <td>6.8</td>\n",
       "      <td>43</td>\n",
       "      <td>1</td>\n",
       "      <td>0</td>\n",
       "      <td>1</td>\n",
       "      <td>0</td>\n",
       "      <td>250</td>\n",
       "      <td>high</td>\n",
       "    </tr>\n",
       "    <tr>\n",
       "      <th>1058</th>\n",
       "      <td>8.6</td>\n",
       "      <td>55</td>\n",
       "      <td>0</td>\n",
       "      <td>1</td>\n",
       "      <td>1</td>\n",
       "      <td>1</td>\n",
       "      <td>255</td>\n",
       "      <td>low</td>\n",
       "    </tr>\n",
       "  </tbody>\n",
       "</table>\n",
       "</div>"
      ],
      "text/plain": [
       "       pH  Temprature  Taste  Odor  Fat  Turbidity  Color   Grade\n",
       "1054  6.7          45      1     1    0          0    247  medium\n",
       "1055  6.7          38      1     0    1          0    255    high\n",
       "1056  3.0          40      1     1    1          1    255     low\n",
       "1057  6.8          43      1     0    1          0    250    high\n",
       "1058  8.6          55      0     1    1          1    255     low"
      ]
     },
     "execution_count": 4,
     "metadata": {},
     "output_type": "execute_result"
    }
   ],
   "source": [
    "m.tail()"
   ]
  },
  {
   "cell_type": "code",
   "execution_count": 5,
   "id": "aeda83cd",
   "metadata": {},
   "outputs": [
    {
     "data": {
      "text/plain": [
       "8472"
      ]
     },
     "execution_count": 5,
     "metadata": {},
     "output_type": "execute_result"
    }
   ],
   "source": [
    "m.size"
   ]
  },
  {
   "cell_type": "code",
   "execution_count": 6,
   "id": "296e170e",
   "metadata": {},
   "outputs": [
    {
     "data": {
      "text/plain": [
       "(1059, 8)"
      ]
     },
     "execution_count": 6,
     "metadata": {},
     "output_type": "execute_result"
    }
   ],
   "source": [
    "m.shape"
   ]
  },
  {
   "cell_type": "code",
   "execution_count": 7,
   "id": "19958484",
   "metadata": {},
   "outputs": [
    {
     "name": "stdout",
     "output_type": "stream",
     "text": [
      "<class 'pandas.core.frame.DataFrame'>\n",
      "RangeIndex: 1059 entries, 0 to 1058\n",
      "Data columns (total 8 columns):\n",
      " #   Column      Non-Null Count  Dtype  \n",
      "---  ------      --------------  -----  \n",
      " 0   pH          1059 non-null   float64\n",
      " 1   Temprature  1059 non-null   int64  \n",
      " 2   Taste       1059 non-null   int64  \n",
      " 3   Odor        1059 non-null   int64  \n",
      " 4   Fat         1059 non-null   int64  \n",
      " 5   Turbidity   1059 non-null   int64  \n",
      " 6   Color       1059 non-null   int64  \n",
      " 7   Grade       1059 non-null   object \n",
      "dtypes: float64(1), int64(6), object(1)\n",
      "memory usage: 66.3+ KB\n"
     ]
    }
   ],
   "source": [
    "m.info()"
   ]
  },
  {
   "cell_type": "code",
   "execution_count": 9,
   "id": "248bcf42",
   "metadata": {
    "scrolled": true
   },
   "outputs": [
    {
     "data": {
      "text/html": [
       "<div>\n",
       "<style scoped>\n",
       "    .dataframe tbody tr th:only-of-type {\n",
       "        vertical-align: middle;\n",
       "    }\n",
       "\n",
       "    .dataframe tbody tr th {\n",
       "        vertical-align: top;\n",
       "    }\n",
       "\n",
       "    .dataframe thead th {\n",
       "        text-align: right;\n",
       "    }\n",
       "</style>\n",
       "<table border=\"1\" class=\"dataframe\">\n",
       "  <thead>\n",
       "    <tr style=\"text-align: right;\">\n",
       "      <th></th>\n",
       "      <th>pH</th>\n",
       "      <th>Temprature</th>\n",
       "      <th>Taste</th>\n",
       "      <th>Odor</th>\n",
       "      <th>Fat</th>\n",
       "      <th>Turbidity</th>\n",
       "      <th>Color</th>\n",
       "    </tr>\n",
       "  </thead>\n",
       "  <tbody>\n",
       "    <tr>\n",
       "      <th>count</th>\n",
       "      <td>1059.000000</td>\n",
       "      <td>1059.000000</td>\n",
       "      <td>1059.000000</td>\n",
       "      <td>1059.000000</td>\n",
       "      <td>1059.000000</td>\n",
       "      <td>1059.000000</td>\n",
       "      <td>1059.000000</td>\n",
       "    </tr>\n",
       "    <tr>\n",
       "      <th>mean</th>\n",
       "      <td>6.630123</td>\n",
       "      <td>44.226629</td>\n",
       "      <td>0.546742</td>\n",
       "      <td>0.432483</td>\n",
       "      <td>0.671388</td>\n",
       "      <td>0.491029</td>\n",
       "      <td>251.840415</td>\n",
       "    </tr>\n",
       "    <tr>\n",
       "      <th>std</th>\n",
       "      <td>1.399679</td>\n",
       "      <td>10.098364</td>\n",
       "      <td>0.498046</td>\n",
       "      <td>0.495655</td>\n",
       "      <td>0.469930</td>\n",
       "      <td>0.500156</td>\n",
       "      <td>4.307424</td>\n",
       "    </tr>\n",
       "    <tr>\n",
       "      <th>min</th>\n",
       "      <td>3.000000</td>\n",
       "      <td>34.000000</td>\n",
       "      <td>0.000000</td>\n",
       "      <td>0.000000</td>\n",
       "      <td>0.000000</td>\n",
       "      <td>0.000000</td>\n",
       "      <td>240.000000</td>\n",
       "    </tr>\n",
       "    <tr>\n",
       "      <th>25%</th>\n",
       "      <td>6.500000</td>\n",
       "      <td>38.000000</td>\n",
       "      <td>0.000000</td>\n",
       "      <td>0.000000</td>\n",
       "      <td>0.000000</td>\n",
       "      <td>0.000000</td>\n",
       "      <td>250.000000</td>\n",
       "    </tr>\n",
       "    <tr>\n",
       "      <th>50%</th>\n",
       "      <td>6.700000</td>\n",
       "      <td>41.000000</td>\n",
       "      <td>1.000000</td>\n",
       "      <td>0.000000</td>\n",
       "      <td>1.000000</td>\n",
       "      <td>0.000000</td>\n",
       "      <td>255.000000</td>\n",
       "    </tr>\n",
       "    <tr>\n",
       "      <th>75%</th>\n",
       "      <td>6.800000</td>\n",
       "      <td>45.000000</td>\n",
       "      <td>1.000000</td>\n",
       "      <td>1.000000</td>\n",
       "      <td>1.000000</td>\n",
       "      <td>1.000000</td>\n",
       "      <td>255.000000</td>\n",
       "    </tr>\n",
       "    <tr>\n",
       "      <th>max</th>\n",
       "      <td>9.500000</td>\n",
       "      <td>90.000000</td>\n",
       "      <td>1.000000</td>\n",
       "      <td>1.000000</td>\n",
       "      <td>1.000000</td>\n",
       "      <td>1.000000</td>\n",
       "      <td>255.000000</td>\n",
       "    </tr>\n",
       "  </tbody>\n",
       "</table>\n",
       "</div>"
      ],
      "text/plain": [
       "                pH   Temprature        Taste         Odor          Fat  \\\n",
       "count  1059.000000  1059.000000  1059.000000  1059.000000  1059.000000   \n",
       "mean      6.630123    44.226629     0.546742     0.432483     0.671388   \n",
       "std       1.399679    10.098364     0.498046     0.495655     0.469930   \n",
       "min       3.000000    34.000000     0.000000     0.000000     0.000000   \n",
       "25%       6.500000    38.000000     0.000000     0.000000     0.000000   \n",
       "50%       6.700000    41.000000     1.000000     0.000000     1.000000   \n",
       "75%       6.800000    45.000000     1.000000     1.000000     1.000000   \n",
       "max       9.500000    90.000000     1.000000     1.000000     1.000000   \n",
       "\n",
       "         Turbidity        Color  \n",
       "count  1059.000000  1059.000000  \n",
       "mean      0.491029   251.840415  \n",
       "std       0.500156     4.307424  \n",
       "min       0.000000   240.000000  \n",
       "25%       0.000000   250.000000  \n",
       "50%       0.000000   255.000000  \n",
       "75%       1.000000   255.000000  \n",
       "max       1.000000   255.000000  "
      ]
     },
     "execution_count": 9,
     "metadata": {},
     "output_type": "execute_result"
    }
   ],
   "source": [
    "m.describe()"
   ]
  },
  {
   "cell_type": "code",
   "execution_count": 10,
   "id": "5ffc10b7",
   "metadata": {},
   "outputs": [
    {
     "data": {
      "text/plain": [
       "Index(['pH', 'Temprature', 'Taste', 'Odor', 'Fat', 'Turbidity', 'Color',\n",
       "       'Grade'],\n",
       "      dtype='object')"
      ]
     },
     "execution_count": 10,
     "metadata": {},
     "output_type": "execute_result"
    }
   ],
   "source": [
    "m.columns"
   ]
  },
  {
   "cell_type": "code",
   "execution_count": 11,
   "id": "9a1758ca",
   "metadata": {},
   "outputs": [
    {
     "data": {
      "text/plain": [
       "pH            16\n",
       "Temprature    17\n",
       "Taste          2\n",
       "Odor           2\n",
       "Fat            2\n",
       "Turbidity      2\n",
       "Color          9\n",
       "Grade          3\n",
       "dtype: int64"
      ]
     },
     "execution_count": 11,
     "metadata": {},
     "output_type": "execute_result"
    }
   ],
   "source": [
    "m.nunique()"
   ]
  },
  {
   "cell_type": "code",
   "execution_count": 12,
   "id": "ece8eafd",
   "metadata": {},
   "outputs": [
    {
     "data": {
      "text/plain": [
       "array(['high', 'low', 'medium'], dtype=object)"
      ]
     },
     "execution_count": 12,
     "metadata": {},
     "output_type": "execute_result"
    }
   ],
   "source": [
    "m.Grade.unique()"
   ]
  },
  {
   "cell_type": "markdown",
   "id": "cc214724",
   "metadata": {},
   "source": [
    "# Data Preprocessing"
   ]
  },
  {
   "cell_type": "markdown",
   "id": "91ce1952",
   "metadata": {},
   "source": [
    "Steps involved in Data Preprocessing :\n",
    "\n",
    "\n",
    "__*Data cleaning*__\n",
    "\n",
    "__*Identifying and removing outliers*__\n",
    "\n",
    "__*Encoding categorical variables*__"
   ]
  },
  {
   "cell_type": "code",
   "execution_count": 13,
   "id": "d981661b",
   "metadata": {},
   "outputs": [
    {
     "data": {
      "text/plain": [
       "pH            0\n",
       "Temprature    0\n",
       "Taste         0\n",
       "Odor          0\n",
       "Fat           0\n",
       "Turbidity     0\n",
       "Color         0\n",
       "Grade         0\n",
       "dtype: int64"
      ]
     },
     "execution_count": 13,
     "metadata": {},
     "output_type": "execute_result"
    }
   ],
   "source": [
    "#cheacking missing or null values\n",
    "m.isna().sum()"
   ]
  },
  {
   "cell_type": "code",
   "execution_count": 14,
   "id": "5b47c3d7",
   "metadata": {},
   "outputs": [
    {
     "data": {
      "text/plain": [
       "pH                AxesSubplot(0.125,0.71587;0.168478x0.16413)\n",
       "Temprature     AxesSubplot(0.327174,0.71587;0.168478x0.16413)\n",
       "Taste          AxesSubplot(0.529348,0.71587;0.168478x0.16413)\n",
       "Odor           AxesSubplot(0.731522,0.71587;0.168478x0.16413)\n",
       "Fat              AxesSubplot(0.125,0.518913;0.168478x0.16413)\n",
       "Turbidity     AxesSubplot(0.327174,0.518913;0.168478x0.16413)\n",
       "Color         AxesSubplot(0.529348,0.518913;0.168478x0.16413)\n",
       "dtype: object"
      ]
     },
     "execution_count": 14,
     "metadata": {},
     "output_type": "execute_result"
    },
    {
     "data": {
      "image/png": "[encoded data removed]",
      "text/plain": [
       "<Figure size 1440x1440 with 16 Axes>"
      ]
     },
     "metadata": {
      "needs_background": "light"
     },
     "output_type": "display_data"
    }
   ],
   "source": [
    "#Outlier Detection\n",
    "m.plot(kind=\"box\",subplots=True,layout=(4,4),sharex=False,sharey=False,figsize=(20,20))"
   ]
  },
  {
   "cell_type": "code",
   "execution_count": 15,
   "id": "6c60ee43",
   "metadata": {},
   "outputs": [],
   "source": [
    "m=m.loc[(m.Temprature<60)]\n",
    "m=m.loc[(m.pH<8) & (m.pH>6)]\n"
   ]
  },
  {
   "cell_type": "code",
   "execution_count": 16,
   "id": "05ae8f22",
   "metadata": {},
   "outputs": [
    {
     "data": {
      "text/plain": [
       "pH                AxesSubplot(0.125,0.71587;0.168478x0.16413)\n",
       "Temprature     AxesSubplot(0.327174,0.71587;0.168478x0.16413)\n",
       "Taste          AxesSubplot(0.529348,0.71587;0.168478x0.16413)\n",
       "Odor           AxesSubplot(0.731522,0.71587;0.168478x0.16413)\n",
       "Fat              AxesSubplot(0.125,0.518913;0.168478x0.16413)\n",
       "Turbidity     AxesSubplot(0.327174,0.518913;0.168478x0.16413)\n",
       "Color         AxesSubplot(0.529348,0.518913;0.168478x0.16413)\n",
       "dtype: object"
      ]
     },
     "execution_count": 16,
     "metadata": {},
     "output_type": "execute_result"
    },
    {
     "data": {
      "image/png": "[encoded data removed]",
      "text/plain": [
       "<Figure size 1440x1440 with 16 Axes>"
      ]
     },
     "metadata": {
      "needs_background": "light"
     },
     "output_type": "display_data"
    }
   ],
   "source": [
    "m.plot(kind=\"box\",subplots=True,layout=(4,4),sharex=False,sharey=False,figsize=(20,20))"
   ]
  },
  {
   "cell_type": "code",
   "execution_count": 17,
   "id": "dc46dc18",
   "metadata": {},
   "outputs": [
    {
     "data": {
      "text/html": [
       "<div>\n",
       "<style scoped>\n",
       "    .dataframe tbody tr th:only-of-type {\n",
       "        vertical-align: middle;\n",
       "    }\n",
       "\n",
       "    .dataframe tbody tr th {\n",
       "        vertical-align: top;\n",
       "    }\n",
       "\n",
       "    .dataframe thead th {\n",
       "        text-align: right;\n",
       "    }\n",
       "</style>\n",
       "<table border=\"1\" class=\"dataframe\">\n",
       "  <thead>\n",
       "    <tr style=\"text-align: right;\">\n",
       "      <th></th>\n",
       "      <th>pH</th>\n",
       "      <th>Temprature</th>\n",
       "      <th>Taste</th>\n",
       "      <th>Odor</th>\n",
       "      <th>Fat</th>\n",
       "      <th>Turbidity</th>\n",
       "      <th>Color</th>\n",
       "    </tr>\n",
       "  </thead>\n",
       "  <tbody>\n",
       "    <tr>\n",
       "      <th>pH</th>\n",
       "      <td>1.000000</td>\n",
       "      <td>0.385169</td>\n",
       "      <td>-0.032990</td>\n",
       "      <td>0.307743</td>\n",
       "      <td>0.193007</td>\n",
       "      <td>0.164494</td>\n",
       "      <td>-0.246377</td>\n",
       "    </tr>\n",
       "    <tr>\n",
       "      <th>Temprature</th>\n",
       "      <td>0.385169</td>\n",
       "      <td>1.000000</td>\n",
       "      <td>-0.024248</td>\n",
       "      <td>0.261950</td>\n",
       "      <td>-0.016876</td>\n",
       "      <td>0.208823</td>\n",
       "      <td>-0.205965</td>\n",
       "    </tr>\n",
       "    <tr>\n",
       "      <th>Taste</th>\n",
       "      <td>-0.032990</td>\n",
       "      <td>-0.024248</td>\n",
       "      <td>1.000000</td>\n",
       "      <td>0.150298</td>\n",
       "      <td>0.370760</td>\n",
       "      <td>-0.097593</td>\n",
       "      <td>-0.154204</td>\n",
       "    </tr>\n",
       "    <tr>\n",
       "      <th>Odor</th>\n",
       "      <td>0.307743</td>\n",
       "      <td>0.261950</td>\n",
       "      <td>0.150298</td>\n",
       "      <td>1.000000</td>\n",
       "      <td>0.345004</td>\n",
       "      <td>0.427383</td>\n",
       "      <td>-0.173333</td>\n",
       "    </tr>\n",
       "    <tr>\n",
       "      <th>Fat</th>\n",
       "      <td>0.193007</td>\n",
       "      <td>-0.016876</td>\n",
       "      <td>0.370760</td>\n",
       "      <td>0.345004</td>\n",
       "      <td>1.000000</td>\n",
       "      <td>0.136009</td>\n",
       "      <td>0.111634</td>\n",
       "    </tr>\n",
       "    <tr>\n",
       "      <th>Turbidity</th>\n",
       "      <td>0.164494</td>\n",
       "      <td>0.208823</td>\n",
       "      <td>-0.097593</td>\n",
       "      <td>0.427383</td>\n",
       "      <td>0.136009</td>\n",
       "      <td>1.000000</td>\n",
       "      <td>0.066738</td>\n",
       "    </tr>\n",
       "    <tr>\n",
       "      <th>Color</th>\n",
       "      <td>-0.246377</td>\n",
       "      <td>-0.205965</td>\n",
       "      <td>-0.154204</td>\n",
       "      <td>-0.173333</td>\n",
       "      <td>0.111634</td>\n",
       "      <td>0.066738</td>\n",
       "      <td>1.000000</td>\n",
       "    </tr>\n",
       "  </tbody>\n",
       "</table>\n",
       "</div>"
      ],
      "text/plain": [
       "                  pH  Temprature     Taste      Odor       Fat  Turbidity  \\\n",
       "pH          1.000000    0.385169 -0.032990  0.307743  0.193007   0.164494   \n",
       "Temprature  0.385169    1.000000 -0.024248  0.261950 -0.016876   0.208823   \n",
       "Taste      -0.032990   -0.024248  1.000000  0.150298  0.370760  -0.097593   \n",
       "Odor        0.307743    0.261950  0.150298  1.000000  0.345004   0.427383   \n",
       "Fat         0.193007   -0.016876  0.370760  0.345004  1.000000   0.136009   \n",
       "Turbidity   0.164494    0.208823 -0.097593  0.427383  0.136009   1.000000   \n",
       "Color      -0.246377   -0.205965 -0.154204 -0.173333  0.111634   0.066738   \n",
       "\n",
       "               Color  \n",
       "pH         -0.246377  \n",
       "Temprature -0.205965  \n",
       "Taste      -0.154204  \n",
       "Odor       -0.173333  \n",
       "Fat         0.111634  \n",
       "Turbidity   0.066738  \n",
       "Color       1.000000  "
      ]
     },
     "execution_count": 17,
     "metadata": {},
     "output_type": "execute_result"
    }
   ],
   "source": [
    "#Checking Multicollinearity\n",
    "m.corr()"
   ]
  },
  {
   "cell_type": "code",
   "execution_count": 18,
   "id": "9bba5afb",
   "metadata": {
    "scrolled": true
   },
   "outputs": [
    {
     "data": {
      "image/png": "[encoded data removed]",
      "text/plain": [
       "<Figure size 432x288 with 2 Axes>"
      ]
     },
     "metadata": {
      "needs_background": "light"
     },
     "output_type": "display_data"
    }
   ],
   "source": [
    "plt.figure(figsize=(15,10))\n",
    "sns.heatmap(m.corr(),annot=True,linewidth=2)\n",
    "plt.show()"
   ]
  },
  {
   "cell_type": "code",
   "execution_count": 19,
   "id": "fcf81bf8",
   "metadata": {},
   "outputs": [
    {
     "data": {
      "text/html": [
       "<div>\n",
       "<style scoped>\n",
       "    .dataframe tbody tr th:only-of-type {\n",
       "        vertical-align: middle;\n",
       "    }\n",
       "\n",
       "    .dataframe tbody tr th {\n",
       "        vertical-align: top;\n",
       "    }\n",
       "\n",
       "    .dataframe thead th {\n",
       "        text-align: right;\n",
       "    }\n",
       "</style>\n",
       "<table border=\"1\" class=\"dataframe\">\n",
       "  <thead>\n",
       "    <tr style=\"text-align: right;\">\n",
       "      <th></th>\n",
       "      <th>pH</th>\n",
       "      <th>Temprature</th>\n",
       "      <th>Taste</th>\n",
       "      <th>Odor</th>\n",
       "      <th>Fat</th>\n",
       "      <th>Turbidity</th>\n",
       "      <th>Color</th>\n",
       "      <th>Grade</th>\n",
       "    </tr>\n",
       "  </thead>\n",
       "  <tbody>\n",
       "    <tr>\n",
       "      <th>0</th>\n",
       "      <td>6.6</td>\n",
       "      <td>35</td>\n",
       "      <td>1</td>\n",
       "      <td>0</td>\n",
       "      <td>1</td>\n",
       "      <td>0</td>\n",
       "      <td>254</td>\n",
       "      <td>high</td>\n",
       "    </tr>\n",
       "    <tr>\n",
       "      <th>1</th>\n",
       "      <td>6.6</td>\n",
       "      <td>36</td>\n",
       "      <td>0</td>\n",
       "      <td>1</td>\n",
       "      <td>0</td>\n",
       "      <td>1</td>\n",
       "      <td>253</td>\n",
       "      <td>high</td>\n",
       "    </tr>\n",
       "    <tr>\n",
       "      <th>4</th>\n",
       "      <td>6.6</td>\n",
       "      <td>37</td>\n",
       "      <td>0</td>\n",
       "      <td>0</td>\n",
       "      <td>0</td>\n",
       "      <td>0</td>\n",
       "      <td>255</td>\n",
       "      <td>medium</td>\n",
       "    </tr>\n",
       "    <tr>\n",
       "      <th>5</th>\n",
       "      <td>6.6</td>\n",
       "      <td>37</td>\n",
       "      <td>1</td>\n",
       "      <td>1</td>\n",
       "      <td>1</td>\n",
       "      <td>1</td>\n",
       "      <td>255</td>\n",
       "      <td>high</td>\n",
       "    </tr>\n",
       "    <tr>\n",
       "      <th>9</th>\n",
       "      <td>6.7</td>\n",
       "      <td>45</td>\n",
       "      <td>1</td>\n",
       "      <td>1</td>\n",
       "      <td>0</td>\n",
       "      <td>0</td>\n",
       "      <td>247</td>\n",
       "      <td>medium</td>\n",
       "    </tr>\n",
       "  </tbody>\n",
       "</table>\n",
       "</div>"
      ],
      "text/plain": [
       "    pH  Temprature  Taste  Odor  Fat  Turbidity  Color   Grade\n",
       "0  6.6          35      1     0    1          0    254    high\n",
       "1  6.6          36      0     1    0          1    253    high\n",
       "4  6.6          37      0     0    0          0    255  medium\n",
       "5  6.6          37      1     1    1          1    255    high\n",
       "9  6.7          45      1     1    0          0    247  medium"
      ]
     },
     "execution_count": 19,
     "metadata": {},
     "output_type": "execute_result"
    }
   ],
   "source": [
    "m.head()"
   ]
  },
  {
   "cell_type": "code",
   "execution_count": 20,
   "id": "07569e0d",
   "metadata": {},
   "outputs": [
    {
     "data": {
      "text/plain": [
       "array(['high', 'medium', 'low'], dtype=object)"
      ]
     },
     "execution_count": 20,
     "metadata": {},
     "output_type": "execute_result"
    }
   ],
   "source": [
    "m.Grade.unique()"
   ]
  },
  {
   "cell_type": "code",
   "execution_count": 21,
   "id": "d3655801",
   "metadata": {},
   "outputs": [],
   "source": [
    "#Feature Engineering\n",
    "m.Grade=m.Grade.map({\"low\":0,\"medium\":1,\"high\":2})"
   ]
  },
  {
   "cell_type": "code",
   "execution_count": 22,
   "id": "0e36a2f1",
   "metadata": {},
   "outputs": [
    {
     "data": {
      "text/plain": [
       "array([2, 1, 0], dtype=int64)"
      ]
     },
     "execution_count": 22,
     "metadata": {},
     "output_type": "execute_result"
    }
   ],
   "source": [
    "m.Grade.unique()"
   ]
  },
  {
   "cell_type": "markdown",
   "id": "c246fe9e",
   "metadata": {},
   "source": [
    "#  Data Visualization"
   ]
  },
  {
   "cell_type": "code",
   "execution_count": 23,
   "id": "36cde963",
   "metadata": {},
   "outputs": [
    {
     "data": {
      "text/plain": [
       "array([[<AxesSubplot:title={'center':'pH'}>,\n",
       "        <AxesSubplot:title={'center':'Temprature'}>,\n",
       "        <AxesSubplot:title={'center':'Taste'}>],\n",
       "       [<AxesSubplot:title={'center':'Odor'}>,\n",
       "        <AxesSubplot:title={'center':'Fat'}>,\n",
       "        <AxesSubplot:title={'center':'Turbidity'}>],\n",
       "       [<AxesSubplot:title={'center':'Color'}>,\n",
       "        <AxesSubplot:title={'center':'Grade'}>, <AxesSubplot:>]],\n",
       "      dtype=object)"
      ]
     },
     "execution_count": 23,
     "metadata": {},
     "output_type": "execute_result"
    },
    {
     "data": {
      "image/png": "[encoded data removed]",
      "text/plain": [
       "<Figure size 720x720 with 9 Axes>"
      ]
     },
     "metadata": {
      "needs_background": "light"
     },
     "output_type": "display_data"
    }
   ],
   "source": [
    "m.hist(figsize=(10,10),color=\"black\")"
   ]
  },
  {
   "cell_type": "code",
   "execution_count": 24,
   "id": "84b4bfd6",
   "metadata": {},
   "outputs": [
    {
     "data": {
      "text/plain": [
       "<AxesSubplot:>"
      ]
     },
     "execution_count": 24,
     "metadata": {},
     "output_type": "execute_result"
    },
    {
     "data": {
      "image/png": "[encoded data removed]",
      "text/plain": [
       "<Figure size 432x288 with 1 Axes>"
      ]
     },
     "metadata": {
      "needs_background": "light"
     },
     "output_type": "display_data"
    }
   ],
   "source": [
    "m.Taste.value_counts().plot(kind=\"bar\",color=\"yellow\")"
   ]
  },
  {
   "cell_type": "code",
   "execution_count": 25,
   "id": "35ca9dd1",
   "metadata": {},
   "outputs": [
    {
     "data": {
      "text/plain": [
       "<AxesSubplot:>"
      ]
     },
     "execution_count": 25,
     "metadata": {},
     "output_type": "execute_result"
    },
    {
     "data": {
      "image/png": "[encoded data removed]",
      "text/plain": [
       "<Figure size 432x288 with 1 Axes>"
      ]
     },
     "metadata": {
      "needs_background": "light"
     },
     "output_type": "display_data"
    }
   ],
   "source": [
    "m.Odor.value_counts().plot(kind=\"bar\",color=\"black\")"
   ]
  },
  {
   "cell_type": "markdown",
   "id": "dbafbc20",
   "metadata": {},
   "source": [
    "__*Here most of the observation of bad odor of milk*__"
   ]
  },
  {
   "cell_type": "code",
   "execution_count": 26,
   "id": "edc56e0c",
   "metadata": {},
   "outputs": [
    {
     "data": {
      "text/plain": [
       "<AxesSubplot:>"
      ]
     },
     "execution_count": 26,
     "metadata": {},
     "output_type": "execute_result"
    },
    {
     "data": {
      "image/png": "[encoded data removed]",
      "text/plain": [
       "<Figure size 432x288 with 1 Axes>"
      ]
     },
     "metadata": {
      "needs_background": "light"
     },
     "output_type": "display_data"
    }
   ],
   "source": [
    "m.Fat.value_counts().plot(kind=\"bar\",color=\"yellow\")"
   ]
  },
  {
   "cell_type": "markdown",
   "id": "b958ca4d",
   "metadata": {},
   "source": [
    "__*Here most of the observation have High level of Fat.*__"
   ]
  },
  {
   "cell_type": "code",
   "execution_count": 27,
   "id": "899a2d01",
   "metadata": {},
   "outputs": [
    {
     "data": {
      "text/plain": [
       "<AxesSubplot:>"
      ]
     },
     "execution_count": 27,
     "metadata": {},
     "output_type": "execute_result"
    },
    {
     "data": {
      "image/png": "[encoded data removed]",
      "text/plain": [
       "<Figure size 432x288 with 1 Axes>"
      ]
     },
     "metadata": {
      "needs_background": "light"
     },
     "output_type": "display_data"
    }
   ],
   "source": [
    "m.Turbidity.value_counts().plot(kind=\"bar\",color=\"black\")"
   ]
  },
  {
   "cell_type": "markdown",
   "id": "1201e582",
   "metadata": {},
   "source": [
    "__*Here most of the observation of low  level of Turbidity.*__"
   ]
  },
  {
   "cell_type": "code",
   "execution_count": 28,
   "id": "90e5d55f",
   "metadata": {},
   "outputs": [
    {
     "data": {
      "text/plain": [
       "<AxesSubplot:>"
      ]
     },
     "execution_count": 28,
     "metadata": {},
     "output_type": "execute_result"
    },
    {
     "data": {
      "image/png": "[encoded data removed]",
      "text/plain": [
       "<Figure size 432x288 with 1 Axes>"
      ]
     },
     "metadata": {
      "needs_background": "light"
     },
     "output_type": "display_data"
    }
   ],
   "source": [
    "m.Color.value_counts().plot(kind=\"bar\",color=\"yellow\")"
   ]
  },
  {
   "cell_type": "markdown",
   "id": "8d18f0cb",
   "metadata": {},
   "source": [
    "__*Here most of the observation of 255 level of color.*__"
   ]
  },
  {
   "cell_type": "code",
   "execution_count": 29,
   "id": "1cba2429",
   "metadata": {},
   "outputs": [
    {
     "data": {
      "text/plain": [
       "<AxesSubplot:xlabel='Grade'>"
      ]
     },
     "execution_count": 29,
     "metadata": {},
     "output_type": "execute_result"
    },
    {
     "data": {
      "image/png": "[encoded data removed]",
      "text/plain": [
       "<Figure size 432x288 with 1 Axes>"
      ]
     },
     "metadata": {
      "needs_background": "light"
     },
     "output_type": "display_data"
    }
   ],
   "source": [
    "m.Grade.value_counts().plot(kind=\"bar\",color=\"black\",rot=360,xlabel=\"Grade\")"
   ]
  },
  {
   "cell_type": "markdown",
   "id": "475bf5ae",
   "metadata": {},
   "source": [
    "__*Here most of the observation have high quality of milk.*__"
   ]
  },
  {
   "cell_type": "code",
   "execution_count": 30,
   "id": "49750f43",
   "metadata": {},
   "outputs": [
    {
     "data": {
      "text/plain": [
       "<AxesSubplot:xlabel='Temprature', ylabel='Color'>"
      ]
     },
     "execution_count": 30,
     "metadata": {},
     "output_type": "execute_result"
    },
    {
     "data": {
      "image/png": "[encoded data removed]",
      "text/plain": [
       "<Figure size 432x288 with 1 Axes>"
      ]
     },
     "metadata": {
      "needs_background": "light"
     },
     "output_type": "display_data"
    }
   ],
   "source": [
    "m.plot(kind=\"scatter\",x= \"Temprature\",y=\"Color\",color=\"yellow\")"
   ]
  },
  {
   "cell_type": "code",
   "execution_count": 31,
   "id": "cad0d297",
   "metadata": {},
   "outputs": [
    {
     "data": {
      "text/plain": [
       "<AxesSubplot:>"
      ]
     },
     "execution_count": 31,
     "metadata": {},
     "output_type": "execute_result"
    },
    {
     "data": {
      "image/png": "[encoded data removed]",
      "text/plain": [
       "<Figure size 432x288 with 1 Axes>"
      ]
     },
     "metadata": {
      "needs_background": "light"
     },
     "output_type": "display_data"
    }
   ],
   "source": [
    "m.Grade.value_counts().plot(kind=\"bar\")"
   ]
  },
  {
   "cell_type": "markdown",
   "id": "ae00af5e",
   "metadata": {},
   "source": [
    "__*Here data is not balanced so we have to balance it.*__"
   ]
  },
  {
   "cell_type": "markdown",
   "id": "d017a98a",
   "metadata": {},
   "source": [
    "# Splitting data into dependent and independent variable"
   ]
  },
  {
   "cell_type": "code",
   "execution_count": 32,
   "id": "39c03ac6",
   "metadata": {},
   "outputs": [],
   "source": [
    "x=m.drop([\"Grade\"],axis=1)\n",
    "y=m.Grade"
   ]
  },
  {
   "cell_type": "code",
   "execution_count": 33,
   "id": "0b978eda",
   "metadata": {},
   "outputs": [
    {
     "data": {
      "text/html": [
       "<div>\n",
       "<style scoped>\n",
       "    .dataframe tbody tr th:only-of-type {\n",
       "        vertical-align: middle;\n",
       "    }\n",
       "\n",
       "    .dataframe tbody tr th {\n",
       "        vertical-align: top;\n",
       "    }\n",
       "\n",
       "    .dataframe thead th {\n",
       "        text-align: right;\n",
       "    }\n",
       "</style>\n",
       "<table border=\"1\" class=\"dataframe\">\n",
       "  <thead>\n",
       "    <tr style=\"text-align: right;\">\n",
       "      <th></th>\n",
       "      <th>pH</th>\n",
       "      <th>Temprature</th>\n",
       "      <th>Taste</th>\n",
       "      <th>Odor</th>\n",
       "      <th>Fat</th>\n",
       "      <th>Turbidity</th>\n",
       "      <th>Color</th>\n",
       "    </tr>\n",
       "  </thead>\n",
       "  <tbody>\n",
       "    <tr>\n",
       "      <th>0</th>\n",
       "      <td>6.6</td>\n",
       "      <td>35</td>\n",
       "      <td>1</td>\n",
       "      <td>0</td>\n",
       "      <td>1</td>\n",
       "      <td>0</td>\n",
       "      <td>254</td>\n",
       "    </tr>\n",
       "    <tr>\n",
       "      <th>1</th>\n",
       "      <td>6.6</td>\n",
       "      <td>36</td>\n",
       "      <td>0</td>\n",
       "      <td>1</td>\n",
       "      <td>0</td>\n",
       "      <td>1</td>\n",
       "      <td>253</td>\n",
       "    </tr>\n",
       "    <tr>\n",
       "      <th>4</th>\n",
       "      <td>6.6</td>\n",
       "      <td>37</td>\n",
       "      <td>0</td>\n",
       "      <td>0</td>\n",
       "      <td>0</td>\n",
       "      <td>0</td>\n",
       "      <td>255</td>\n",
       "    </tr>\n",
       "  </tbody>\n",
       "</table>\n",
       "</div>"
      ],
      "text/plain": [
       "    pH  Temprature  Taste  Odor  Fat  Turbidity  Color\n",
       "0  6.6          35      1     0    1          0    254\n",
       "1  6.6          36      0     1    0          1    253\n",
       "4  6.6          37      0     0    0          0    255"
      ]
     },
     "execution_count": 33,
     "metadata": {},
     "output_type": "execute_result"
    }
   ],
   "source": [
    "x.head(n=3)"
   ]
  },
  {
   "cell_type": "code",
   "execution_count": 34,
   "id": "5e77ef83",
   "metadata": {},
   "outputs": [
    {
     "data": {
      "text/plain": [
       "0    2\n",
       "1    2\n",
       "4    1\n",
       "Name: Grade, dtype: int64"
      ]
     },
     "execution_count": 34,
     "metadata": {},
     "output_type": "execute_result"
    }
   ],
   "source": [
    "y.head(n=3)"
   ]
  },
  {
   "cell_type": "code",
   "execution_count": 35,
   "id": "6c59a099",
   "metadata": {},
   "outputs": [
    {
     "data": {
      "text/plain": [
       "1    374\n",
       "2    256\n",
       "0     50\n",
       "Name: Grade, dtype: int64"
      ]
     },
     "execution_count": 35,
     "metadata": {},
     "output_type": "execute_result"
    }
   ],
   "source": [
    "y.value_counts()"
   ]
  },
  {
   "cell_type": "markdown",
   "id": "43666591",
   "metadata": {},
   "source": [
    "# Balancing Data"
   ]
  },
  {
   "cell_type": "code",
   "execution_count": 36,
   "id": "98eb18c8",
   "metadata": {},
   "outputs": [
    {
     "name": "stdout",
     "output_type": "stream",
     "text": [
      "original dataset shape: Counter({1: 374, 2: 256, 0: 50})\n",
      "Resample dataset shape Counter({2: 374, 1: 374, 0: 374})\n"
     ]
    }
   ],
   "source": [
    "from collections import Counter \n",
    "from imblearn.over_sampling import SMOTE\n",
    "sm=SMOTE(random_state=42)\n",
    "X_res,Y_res=sm.fit_resample(x,y)\n",
    "\n",
    "print('original dataset shape:', Counter(y))\n",
    "print('Resample dataset shape', Counter(Y_res))"
   ]
  },
  {
   "cell_type": "markdown",
   "id": "985c955c",
   "metadata": {},
   "source": [
    "# Splitting Data into train test"
   ]
  },
  {
   "cell_type": "markdown",
   "id": "5dc8db1e",
   "metadata": {},
   "source": [
    "__*Now I split variable into training and testing sets. I will perform this by importing train_test_split from the sklearn.model_selection library. It is usually a good practice to keep 70% of data in train dataset and the rest 30% in test dataset.*__"
   ]
  },
  {
   "cell_type": "code",
   "execution_count": 37,
   "id": "84f204b3",
   "metadata": {},
   "outputs": [],
   "source": [
    "from sklearn.model_selection import train_test_split"
   ]
  },
  {
   "cell_type": "code",
   "execution_count": 38,
   "id": "fd33e0d6",
   "metadata": {},
   "outputs": [],
   "source": [
    "X_train, X_test, y_train, y_test = train_test_split(X_res, Y_res, test_size=0.3, random_state=90)"
   ]
  },
  {
   "cell_type": "code",
   "execution_count": 39,
   "id": "cd271725",
   "metadata": {},
   "outputs": [
    {
     "data": {
      "text/plain": [
       "((785, 7), (337, 7))"
      ]
     },
     "execution_count": 39,
     "metadata": {},
     "output_type": "execute_result"
    }
   ],
   "source": [
    "X_train.shape, X_test.shape"
   ]
  },
  {
   "cell_type": "code",
   "execution_count": 40,
   "id": "6a4d5059",
   "metadata": {},
   "outputs": [
    {
     "data": {
      "text/plain": [
       "((785,), (337,))"
      ]
     },
     "execution_count": 40,
     "metadata": {},
     "output_type": "execute_result"
    }
   ],
   "source": [
    "y_train.shape, y_test.shape"
   ]
  },
  {
   "cell_type": "markdown",
   "id": "1a32298a",
   "metadata": {},
   "source": [
    "# feature scaling"
   ]
  },
  {
   "cell_type": "code",
   "execution_count": 41,
   "id": "4b877e06",
   "metadata": {},
   "outputs": [
    {
     "data": {
      "text/plain": [
       "(785, 7)"
      ]
     },
     "execution_count": 41,
     "metadata": {},
     "output_type": "execute_result"
    }
   ],
   "source": [
    "from sklearn.preprocessing import StandardScaler\n",
    "sc=StandardScaler()\n",
    "sc.fit(X_train)\n",
    "X_train = sc.transform(X_train)\n",
    "X_test = sc.transform(X_test)\n",
    "X_train.shape"
   ]
  },
  {
   "cell_type": "markdown",
   "id": "fed2a99c",
   "metadata": {},
   "source": [
    "__*Now the all varibales are converted into a same unit.*__"
   ]
  },
  {
   "cell_type": "markdown",
   "id": "f367a38c",
   "metadata": {},
   "source": [
    "# Building a DecisionTreeClassifier Model"
   ]
  },
  {
   "cell_type": "code",
   "execution_count": 42,
   "id": "38612958",
   "metadata": {},
   "outputs": [],
   "source": [
    "from sklearn.tree import DecisionTreeClassifier\n",
    "from sklearn.metrics import accuracy_score,confusion_matrix,classification_report,precision_score,recall_score"
   ]
  },
  {
   "cell_type": "code",
   "execution_count": 43,
   "id": "0e3a0273",
   "metadata": {},
   "outputs": [],
   "source": [
    "dt = DecisionTreeClassifier()"
   ]
  },
  {
   "cell_type": "code",
   "execution_count": 44,
   "id": "08605637",
   "metadata": {},
   "outputs": [
    {
     "data": {
      "text/html": [
       "<style>#sk-container-id-1 {color: black;background-color: white;}#sk-container-id-1 pre{padding: 0;}#sk-container-id-1 div.sk-toggleable {background-color: white;}#sk-container-id-1 label.sk-toggleable__label {cursor: pointer;display: block;width: 100%;margin-bottom: 0;padding: 0.3em;box-sizing: border-box;text-align: center;}#sk-container-id-1 label.sk-toggleable__label-arrow:before {content: \"▸\";float: left;margin-right: 0.25em;color: #696969;}#sk-container-id-1 label.sk-toggleable__label-arrow:hover:before {color: black;}#sk-container-id-1 div.sk-estimator:hover label.sk-toggleable__label-arrow:before {color: black;}#sk-container-id-1 div.sk-toggleable__content {max-height: 0;max-width: 0;overflow: hidden;text-align: left;background-color: #f0f8ff;}#sk-container-id-1 div.sk-toggleable__content pre {margin: 0.2em;color: black;border-radius: 0.25em;background-color: #f0f8ff;}#sk-container-id-1 input.sk-toggleable__control:checked~div.sk-toggleable__content {max-height: 200px;max-width: 100%;overflow: auto;}#sk-container-id-1 input.sk-toggleable__control:checked~label.sk-toggleable__label-arrow:before {content: \"▾\";}#sk-container-id-1 div.sk-estimator input.sk-toggleable__control:checked~label.sk-toggleable__label {background-color: #d4ebff;}#sk-container-id-1 div.sk-label input.sk-toggleable__control:checked~label.sk-toggleable__label {background-color: #d4ebff;}#sk-container-id-1 input.sk-hidden--visually {border: 0;clip: rect(1px 1px 1px 1px);clip: rect(1px, 1px, 1px, 1px);height: 1px;margin: -1px;overflow: hidden;padding: 0;position: absolute;width: 1px;}#sk-container-id-1 div.sk-estimator {font-family: monospace;background-color: #f0f8ff;border: 1px dotted black;border-radius: 0.25em;box-sizing: border-box;margin-bottom: 0.5em;}#sk-container-id-1 div.sk-estimator:hover {background-color: #d4ebff;}#sk-container-id-1 div.sk-parallel-item::after {content: \"\";width: 100%;border-bottom: 1px solid gray;flex-grow: 1;}#sk-container-id-1 div.sk-label:hover label.sk-toggleable__label {background-color: #d4ebff;}#sk-container-id-1 div.sk-serial::before {content: \"\";position: absolute;border-left: 1px solid gray;box-sizing: border-box;top: 0;bottom: 0;left: 50%;z-index: 0;}#sk-container-id-1 div.sk-serial {display: flex;flex-direction: column;align-items: center;background-color: white;padding-right: 0.2em;padding-left: 0.2em;position: relative;}#sk-container-id-1 div.sk-item {position: relative;z-index: 1;}#sk-container-id-1 div.sk-parallel {display: flex;align-items: stretch;justify-content: center;background-color: white;position: relative;}#sk-container-id-1 div.sk-item::before, #sk-container-id-1 div.sk-parallel-item::before {content: \"\";position: absolute;border-left: 1px solid gray;box-sizing: border-box;top: 0;bottom: 0;left: 50%;z-index: -1;}#sk-container-id-1 div.sk-parallel-item {display: flex;flex-direction: column;z-index: 1;position: relative;background-color: white;}#sk-container-id-1 div.sk-parallel-item:first-child::after {align-self: flex-end;width: 50%;}#sk-container-id-1 div.sk-parallel-item:last-child::after {align-self: flex-start;width: 50%;}#sk-container-id-1 div.sk-parallel-item:only-child::after {width: 0;}#sk-container-id-1 div.sk-dashed-wrapped {border: 1px dashed gray;margin: 0 0.4em 0.5em 0.4em;box-sizing: border-box;padding-bottom: 0.4em;background-color: white;}#sk-container-id-1 div.sk-label label {font-family: monospace;font-weight: bold;display: inline-block;line-height: 1.2em;}#sk-container-id-1 div.sk-label-container {text-align: center;}#sk-container-id-1 div.sk-container {/* jupyter's `normalize.less` sets `[hidden] { display: none; }` but bootstrap.min.css set `[hidden] { display: none !important; }` so we also need the `!important` here to be able to override the default hidden behavior on the sphinx rendered scikit-learn.org. See: https://github.com/scikit-learn/scikit-learn/issues/21755 */display: inline-block !important;position: relative;}#sk-container-id-1 div.sk-text-repr-fallback {display: none;}</style><div id=\"sk-container-id-1\" class=\"sk-top-container\"><div class=\"sk-text-repr-fallback\"><pre>DecisionTreeClassifier()</pre><b>In a Jupyter environment, please rerun this cell to show the HTML representation or trust the notebook. <br />On GitHub, the HTML representation is unable to render, please try loading this page with nbviewer.org.</b></div><div class=\"sk-container\" hidden><div class=\"sk-item\"><div class=\"sk-estimator sk-toggleable\"><input class=\"sk-toggleable__control sk-hidden--visually\" id=\"sk-estimator-id-1\" type=\"checkbox\" checked><label for=\"sk-estimator-id-1\" class=\"sk-toggleable__label sk-toggleable__label-arrow\">DecisionTreeClassifier</label><div class=\"sk-toggleable__content\"><pre>DecisionTreeClassifier()</pre></div></div></div></div></div>"
      ],
      "text/plain": [
       "DecisionTreeClassifier()"
      ]
     },
     "execution_count": 44,
     "metadata": {},
     "output_type": "execute_result"
    }
   ],
   "source": [
    "dt.fit(X_train,y_train)"
   ]
  },
  {
   "cell_type": "code",
   "execution_count": 45,
   "id": "baa9bf6b",
   "metadata": {},
   "outputs": [],
   "source": [
    "y_pred=dt.predict(X_test)"
   ]
  },
  {
   "cell_type": "code",
   "execution_count": 46,
   "id": "734be34c",
   "metadata": {},
   "outputs": [
    {
     "data": {
      "text/plain": [
       "0.9910979228486647"
      ]
     },
     "execution_count": 46,
     "metadata": {},
     "output_type": "execute_result"
    }
   ],
   "source": [
    "accuracy_score(y_test,y_pred)"
   ]
  },
  {
   "cell_type": "code",
   "execution_count": 47,
   "id": "b07c5a09",
   "metadata": {},
   "outputs": [
    {
     "data": {
      "text/plain": [
       "0.9910977150504118"
      ]
     },
     "execution_count": 47,
     "metadata": {},
     "output_type": "execute_result"
    }
   ],
   "source": [
    "precision_score(y_test,y_pred,average=\"weighted\")"
   ]
  },
  {
   "cell_type": "code",
   "execution_count": 48,
   "id": "ce1387af",
   "metadata": {},
   "outputs": [
    {
     "data": {
      "text/plain": [
       "0.9910979228486647"
      ]
     },
     "execution_count": 48,
     "metadata": {},
     "output_type": "execute_result"
    }
   ],
   "source": [
    "recall_score(y_test,y_pred,average=\"weighted\")"
   ]
  },
  {
   "cell_type": "code",
   "execution_count": 49,
   "id": "f7ceb67b",
   "metadata": {},
   "outputs": [
    {
     "name": "stdout",
     "output_type": "stream",
     "text": [
      "Classsification Report Model : \n",
      "\n",
      "              precision    recall  f1-score   support\n",
      "\n",
      "        high       0.99      0.99      0.99        98\n",
      "      medium       0.99      1.00      1.00       119\n",
      "         low       0.99      0.98      0.99       120\n",
      "\n",
      "    accuracy                           0.99       337\n",
      "   macro avg       0.99      0.99      0.99       337\n",
      "weighted avg       0.99      0.99      0.99       337\n",
      "\n"
     ]
    }
   ],
   "source": [
    "#Evaluation report model\n",
    "grade = ['high','medium', 'low']\n",
    "\n",
    "print('Classsification Report Model : \\n')\n",
    "print(classification_report(y_test, y_pred, target_names=grade))"
   ]
  },
  {
   "cell_type": "code",
   "execution_count": 79,
   "id": "d4bef7a7",
   "metadata": {},
   "outputs": [],
   "source": [
    "#Plotting Decision tree"
   ]
  },
  {
   "cell_type": "code",
   "execution_count": 50,
   "id": "55c17032",
   "metadata": {},
   "outputs": [],
   "source": [
    "from sklearn.tree import export_text\n",
    "from sklearn import tree"
   ]
  },
  {
   "cell_type": "code",
   "execution_count": 51,
   "id": "ef6a3925",
   "metadata": {},
   "outputs": [
    {
     "name": "stdout",
     "output_type": "stream",
     "text": [
      "|--- feature_1 <= 0.31\n",
      "|   |--- feature_4 <= -0.24\n",
      "|   |   |--- feature_3 <= 0.28\n",
      "|   |   |   |--- class: 1\n",
      "|   |   |--- feature_3 >  0.28\n",
      "|   |   |   |--- feature_1 <= -0.20\n",
      "|   |   |   |   |--- class: 0\n",
      "|   |   |   |--- feature_1 >  -0.20\n",
      "|   |   |   |   |--- class: 1\n",
      "|   |--- feature_4 >  -0.24\n",
      "|   |   |--- feature_3 <= 0.28\n",
      "|   |   |   |--- feature_0 <= -0.89\n",
      "|   |   |   |   |--- class: 1\n",
      "|   |   |   |--- feature_0 >  -0.89\n",
      "|   |   |   |   |--- feature_0 <= 0.88\n",
      "|   |   |   |   |   |--- feature_2 <= 0.13\n",
      "|   |   |   |   |   |   |--- class: 1\n",
      "|   |   |   |   |   |--- feature_2 >  0.13\n",
      "|   |   |   |   |   |   |--- class: 2\n",
      "|   |   |   |   |--- feature_0 >  0.88\n",
      "|   |   |   |   |   |--- feature_1 <= -0.28\n",
      "|   |   |   |   |   |   |--- class: 1\n",
      "|   |   |   |   |   |--- feature_1 >  -0.28\n",
      "|   |   |   |   |   |   |--- feature_1 <= 0.06\n",
      "|   |   |   |   |   |   |   |--- class: 2\n",
      "|   |   |   |   |   |   |--- feature_1 >  0.06\n",
      "|   |   |   |   |   |   |   |--- class: 1\n",
      "|   |   |--- feature_3 >  0.28\n",
      "|   |   |   |--- feature_6 <= -0.82\n",
      "|   |   |   |   |--- feature_0 <= 0.82\n",
      "|   |   |   |   |   |--- feature_0 <= -0.04\n",
      "|   |   |   |   |   |   |--- feature_1 <= -0.03\n",
      "|   |   |   |   |   |   |   |--- class: 0\n",
      "|   |   |   |   |   |   |--- feature_1 >  -0.03\n",
      "|   |   |   |   |   |   |   |--- class: 2\n",
      "|   |   |   |   |   |--- feature_0 >  -0.04\n",
      "|   |   |   |   |   |   |--- class: 1\n",
      "|   |   |   |   |--- feature_0 >  0.82\n",
      "|   |   |   |   |   |--- class: 2\n",
      "|   |   |   |--- feature_6 >  -0.82\n",
      "|   |   |   |   |--- class: 2\n",
      "|--- feature_1 >  0.31\n",
      "|   |--- class: 0\n",
      "\n"
     ]
    }
   ],
   "source": [
    "text_representation=tree.export_text(dt)\n",
    "print(text_representation)"
   ]
  },
  {
   "cell_type": "code",
   "execution_count": 52,
   "id": "d9a0a43f",
   "metadata": {},
   "outputs": [],
   "source": [
    "from sklearn.tree import plot_tree"
   ]
  },
  {
   "cell_type": "code",
   "execution_count": 53,
   "id": "915583a4",
   "metadata": {},
   "outputs": [
    {
     "data": {
      "text/html": [
       "<div>\n",
       "<style scoped>\n",
       "    .dataframe tbody tr th:only-of-type {\n",
       "        vertical-align: middle;\n",
       "    }\n",
       "\n",
       "    .dataframe tbody tr th {\n",
       "        vertical-align: top;\n",
       "    }\n",
       "\n",
       "    .dataframe thead th {\n",
       "        text-align: right;\n",
       "    }\n",
       "</style>\n",
       "<table border=\"1\" class=\"dataframe\">\n",
       "  <thead>\n",
       "    <tr style=\"text-align: right;\">\n",
       "      <th></th>\n",
       "      <th>pH</th>\n",
       "      <th>Temprature</th>\n",
       "      <th>Taste</th>\n",
       "      <th>Odor</th>\n",
       "      <th>Fat</th>\n",
       "      <th>Turbidity</th>\n",
       "      <th>Color</th>\n",
       "      <th>Grade</th>\n",
       "    </tr>\n",
       "  </thead>\n",
       "  <tbody>\n",
       "    <tr>\n",
       "      <th>0</th>\n",
       "      <td>6.6</td>\n",
       "      <td>35</td>\n",
       "      <td>1</td>\n",
       "      <td>0</td>\n",
       "      <td>1</td>\n",
       "      <td>0</td>\n",
       "      <td>254</td>\n",
       "      <td>2</td>\n",
       "    </tr>\n",
       "    <tr>\n",
       "      <th>1</th>\n",
       "      <td>6.6</td>\n",
       "      <td>36</td>\n",
       "      <td>0</td>\n",
       "      <td>1</td>\n",
       "      <td>0</td>\n",
       "      <td>1</td>\n",
       "      <td>253</td>\n",
       "      <td>2</td>\n",
       "    </tr>\n",
       "  </tbody>\n",
       "</table>\n",
       "</div>"
      ],
      "text/plain": [
       "    pH  Temprature  Taste  Odor  Fat  Turbidity  Color  Grade\n",
       "0  6.6          35      1     0    1          0    254      2\n",
       "1  6.6          36      0     1    0          1    253      2"
      ]
     },
     "execution_count": 53,
     "metadata": {},
     "output_type": "execute_result"
    }
   ],
   "source": [
    "m.head(n=2)"
   ]
  },
  {
   "cell_type": "code",
   "execution_count": 54,
   "id": "e11f9500",
   "metadata": {},
   "outputs": [],
   "source": [
    "feature_name=['pH', 'Temprature', 'Taste', 'Odor', 'Fat', 'Turbidity', 'Color']\n",
    "ca=[\"2\",\"1\",\"0\"]"
   ]
  },
  {
   "cell_type": "code",
   "execution_count": 55,
   "id": "c94773af",
   "metadata": {},
   "outputs": [
    {
     "data": {
      "image/png": "[encoded data removed]",
      "text/plain": [
       "<Figure size 864x1080 with 1 Axes>"
      ]
     },
     "metadata": {
      "needs_background": "light"
     },
     "output_type": "display_data"
    }
   ],
   "source": [
    "plt.figure(figsize=(12,15))\n",
    "a=plot_tree(dt,max_depth=6,fontsize=9,feature_names=feature_name,class_names=ca,filled=True)\n",
    "plt.show()"
   ]
  },
  {
   "cell_type": "code",
   "execution_count": 68,
   "id": "9f017996",
   "metadata": {},
   "outputs": [
    {
     "name": "stdout",
     "output_type": "stream",
     "text": [
      "Input PH = 6.6\n",
      "Input Temprature = 54\n",
      "Input Taste (True or False) = 1\n",
      "Input Odor (True or False) = 0\n",
      "Input Fat (True or False) = 1\n",
      "Input Turbidity (True or False) = 0\n",
      "Input Colour = 256\n",
      "Quality of the milk [0]\n",
      "Quality of a milk is Low\n"
     ]
    }
   ],
   "source": [
    "# Entering new data to get milk quality grade\n",
    "\n",
    "pH = float(input('Input PH = '))\n",
    "Temprature = float(input('Input Temprature = '))\n",
    "Taste = bool(input('Input Taste (True or False) = '))\n",
    "Odor = bool(input('Input Odor (True or False) = '))\n",
    "Fat = bool(input('Input Fat (True or False) = '))\n",
    "Turbidity = bool(input('Input Turbidity (True or False) = '))\n",
    "Colour= int(input('Input Colour = '))\n",
    "grade_milk = ([[pH, Temprature, Taste, Odor, Fat, Turbidity, Colour]])\n",
    "\n",
    "predict_data=dt.predict(grade_milk)\n",
    "print('Quality of the milk', predict_data)\n",
    "\n",
    "if predict_data==0:\n",
    "    print(\"Quality of a milk is Low\")\n",
    "elif predict_data==1:\n",
    "    print(\" Quality of milk is Medium\")\n",
    "else:\n",
    "    print(\"Quality of milk is High\")\n",
    "    "
   ]
  },
  {
   "cell_type": "markdown",
   "id": "1f5c3f76",
   "metadata": {},
   "source": [
    "# __*Thank You.*__"
   ]
  }
 ],
 "metadata": {
  "kernelspec": {
   "display_name": "Python 3 (ipykernel)",
   "language": "python",
   "name": "python3"
  },
  "language_info": {
   "codemirror_mode": {
    "name": "ipython",
    "version": 3
   },
   "file_extension": ".py",
   "mimetype": "text/x-python",
   "name": "python",
   "nbconvert_exporter": "python",
   "pygments_lexer": "ipython3",
   "version": "3.9.12"
  }
 },
 "nbformat": 4,
 "nbformat_minor": 5
}
